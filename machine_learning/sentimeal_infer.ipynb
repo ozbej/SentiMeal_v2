{
  "nbformat": 4,
  "nbformat_minor": 0,
  "metadata": {
    "colab": {
      "provenance": []
    },
    "kernelspec": {
      "name": "python3",
      "display_name": "Python 3"
    },
    "language_info": {
      "name": "python"
    },
    "accelerator": "GPU",
    "gpuClass": "standard"
  },
  "cells": [
    {
      "cell_type": "markdown",
      "source": [
        "# SentiMeal Infering\n",
        "\n",
        "This notebook contains code for infering predictions from a model (trained on YELP dataset) on restaurants from Graz"
      ],
      "metadata": {
        "id": "v6nmdxLdWzAd"
      }
    },
    {
      "cell_type": "code",
      "execution_count": null,
      "metadata": {
        "id": "blCg-9xGWv07"
      },
      "outputs": [],
      "source": [
        "%%capture\n",
        "!pip install datasets transformers huggingface_hub"
      ]
    },
    {
      "cell_type": "code",
      "source": [
        "from google.colab import drive\n",
        "import numpy as np\n",
        "import pandas as pd\n",
        "import seaborn as sns\n",
        "from pylab import rcParams\n",
        "import matplotlib.pyplot as plt\n",
        "from matplotlib import rc\n",
        "from sklearn.model_selection import train_test_split\n",
        "from sklearn.metrics import confusion_matrix, classification_report\n",
        "from collections import defaultdict\n",
        "from textwrap import wrap\n",
        "import re\n",
        "\n",
        "# Torch ML libraries\n",
        "import transformers\n",
        "from transformers import BertModel, BertTokenizer, AdamW, get_linear_schedule_with_warmup\n",
        "import torch\n",
        "from torch import nn, optim\n",
        "from torch.utils.data import Dataset, DataLoader\n",
        "\n",
        "sns.set_theme(style=\"whitegrid\")\n",
        "drive.mount('/content/drive')"
      ],
      "metadata": {
        "colab": {
          "base_uri": "https://localhost:8080/"
        },
        "id": "1aBbbnjJX04H",
        "outputId": "7db1ed52-a131-47b1-d463-bc761d171576"
      },
      "execution_count": null,
      "outputs": [
        {
          "output_type": "stream",
          "name": "stdout",
          "text": [
            "Drive already mounted at /content/drive; to attempt to forcibly remount, call drive.mount(\"/content/drive\", force_remount=True).\n"
          ]
        }
      ]
    },
    {
      "cell_type": "code",
      "source": [
        "df1 = pd.read_excel('/content/drive/MyDrive/IUI/new8010.xlsx')\n",
        "df2 = pd.read_excel('/content/drive/MyDrive/IUI/new8020.xlsx')\n",
        "print(df1.shape, df2.shape)\n",
        "df = pd.concat([df1, df2])\n",
        "df = df.replace(to_replace='None', value=np.nan).dropna(subset=[\"text\", \"review_stars\"]).reset_index(drop=True)\n",
        "print(df.shape)\n",
        "df.head()"
      ],
      "metadata": {
        "colab": {
          "base_uri": "https://localhost:8080/",
          "height": 671
        },
        "id": "gbA17IaKX4wf",
        "outputId": "a792965c-b9d1-4b76-8e4a-503c0c0e51fa"
      },
      "execution_count": null,
      "outputs": [
        {
          "output_type": "stream",
          "name": "stdout",
          "text": [
            "(27541, 15) (13841, 15)\n",
            "(41370, 15)\n"
          ]
        },
        {
          "output_type": "execute_result",
          "data": {
            "text/plain": [
              "                             business_id         name  \\\n",
              "0  0x476e357f4a65a32f:0x699e717c59ba762d  El Pescador   \n",
              "1  0x476e357f4a65a32f:0x699e717c59ba762d  El Pescador   \n",
              "2  0x476e357f4a65a32f:0x699e717c59ba762d  El Pescador   \n",
              "3  0x476e357f4a65a32f:0x699e717c59ba762d  El Pescador   \n",
              "4  0x476e357f4a65a32f:0x699e717c59ba762d  El Pescador   \n",
              "\n",
              "                                             address  city   state  \\\n",
              "0  https://www.google.com/maps/place/El+Pescador/...  Graz  Styria   \n",
              "1  https://www.google.com/maps/place/El+Pescador/...  Graz  Styria   \n",
              "2  https://www.google.com/maps/place/El+Pescador/...  Graz  Styria   \n",
              "3  https://www.google.com/maps/place/El+Pescador/...  Graz  Styria   \n",
              "4  https://www.google.com/maps/place/El+Pescador/...  Graz  Styria   \n",
              "\n",
              "   postal_code                                           latitude  longitude  \\\n",
              "0         8010  47.070183799999995,15.4389313,14z/data=!4m8!1m...  15.438931   \n",
              "1         8010  47.070183799999995,15.4389313,14z/data=!4m8!1m...  15.438931   \n",
              "2         8010  47.070183799999995,15.4389313,14z/data=!4m8!1m...  15.438931   \n",
              "3         8010  47.070183799999995,15.4389313,14z/data=!4m8!1m...  15.438931   \n",
              "4         8010  47.070183799999995,15.4389313,14z/data=!4m8!1m...  15.438931   \n",
              "\n",
              "   stars  attributes              categories                user_id  \\\n",
              "0    4.5         NaN  Restaurants, Graz 8010             Benoit Hex   \n",
              "1    4.5         NaN  Restaurants, Graz 8010                  Wendy   \n",
              "2    4.5         NaN  Restaurants, Graz 8010      Evgenii Kuznetcov   \n",
              "3    4.5         NaN  Restaurants, Graz 8010  Roeland L.C. Heijting   \n",
              "4    4.5         NaN  Restaurants, Graz 8010          Melody Zemann   \n",
              "\n",
              "   review_stars                                               text  \\\n",
              "0           4.0  We had a nice dinner in this great fish restau...   \n",
              "1           5.0  Good vibes. Fresh and deliciously cooked fish....   \n",
              "2           1.0  Worst experience ever. I had booked a table by...   \n",
              "3           5.0  Very nice choice of fish. The menu is small bu...   \n",
              "4           5.0  I always visit here when I visit Graz.\\nFish s...   \n",
              "\n",
              "                  date  \n",
              "0  09/05/2022 20:31:37  \n",
              "1  11/10/2018 20:47:22  \n",
              "2  12/07/2022 17:36:14  \n",
              "3  06/27/2018 02:55:53  \n",
              "4  06/12/2022 20:57:51  "
            ],
            "text/html": [
              "\n",
              "  <div id=\"df-00f965f9-4f10-4915-98a1-2272a42c49fa\">\n",
              "    <div class=\"colab-df-container\">\n",
              "      <div>\n",
              "<style scoped>\n",
              "    .dataframe tbody tr th:only-of-type {\n",
              "        vertical-align: middle;\n",
              "    }\n",
              "\n",
              "    .dataframe tbody tr th {\n",
              "        vertical-align: top;\n",
              "    }\n",
              "\n",
              "    .dataframe thead th {\n",
              "        text-align: right;\n",
              "    }\n",
              "</style>\n",
              "<table border=\"1\" class=\"dataframe\">\n",
              "  <thead>\n",
              "    <tr style=\"text-align: right;\">\n",
              "      <th></th>\n",
              "      <th>business_id</th>\n",
              "      <th>name</th>\n",
              "      <th>address</th>\n",
              "      <th>city</th>\n",
              "      <th>state</th>\n",
              "      <th>postal_code</th>\n",
              "      <th>latitude</th>\n",
              "      <th>longitude</th>\n",
              "      <th>stars</th>\n",
              "      <th>attributes</th>\n",
              "      <th>categories</th>\n",
              "      <th>user_id</th>\n",
              "      <th>review_stars</th>\n",
              "      <th>text</th>\n",
              "      <th>date</th>\n",
              "    </tr>\n",
              "  </thead>\n",
              "  <tbody>\n",
              "    <tr>\n",
              "      <th>0</th>\n",
              "      <td>0x476e357f4a65a32f:0x699e717c59ba762d</td>\n",
              "      <td>El Pescador</td>\n",
              "      <td>https://www.google.com/maps/place/El+Pescador/...</td>\n",
              "      <td>Graz</td>\n",
              "      <td>Styria</td>\n",
              "      <td>8010</td>\n",
              "      <td>47.070183799999995,15.4389313,14z/data=!4m8!1m...</td>\n",
              "      <td>15.438931</td>\n",
              "      <td>4.5</td>\n",
              "      <td>NaN</td>\n",
              "      <td>Restaurants, Graz 8010</td>\n",
              "      <td>Benoit Hex</td>\n",
              "      <td>4.0</td>\n",
              "      <td>We had a nice dinner in this great fish restau...</td>\n",
              "      <td>09/05/2022 20:31:37</td>\n",
              "    </tr>\n",
              "    <tr>\n",
              "      <th>1</th>\n",
              "      <td>0x476e357f4a65a32f:0x699e717c59ba762d</td>\n",
              "      <td>El Pescador</td>\n",
              "      <td>https://www.google.com/maps/place/El+Pescador/...</td>\n",
              "      <td>Graz</td>\n",
              "      <td>Styria</td>\n",
              "      <td>8010</td>\n",
              "      <td>47.070183799999995,15.4389313,14z/data=!4m8!1m...</td>\n",
              "      <td>15.438931</td>\n",
              "      <td>4.5</td>\n",
              "      <td>NaN</td>\n",
              "      <td>Restaurants, Graz 8010</td>\n",
              "      <td>Wendy</td>\n",
              "      <td>5.0</td>\n",
              "      <td>Good vibes. Fresh and deliciously cooked fish....</td>\n",
              "      <td>11/10/2018 20:47:22</td>\n",
              "    </tr>\n",
              "    <tr>\n",
              "      <th>2</th>\n",
              "      <td>0x476e357f4a65a32f:0x699e717c59ba762d</td>\n",
              "      <td>El Pescador</td>\n",
              "      <td>https://www.google.com/maps/place/El+Pescador/...</td>\n",
              "      <td>Graz</td>\n",
              "      <td>Styria</td>\n",
              "      <td>8010</td>\n",
              "      <td>47.070183799999995,15.4389313,14z/data=!4m8!1m...</td>\n",
              "      <td>15.438931</td>\n",
              "      <td>4.5</td>\n",
              "      <td>NaN</td>\n",
              "      <td>Restaurants, Graz 8010</td>\n",
              "      <td>Evgenii Kuznetcov</td>\n",
              "      <td>1.0</td>\n",
              "      <td>Worst experience ever. I had booked a table by...</td>\n",
              "      <td>12/07/2022 17:36:14</td>\n",
              "    </tr>\n",
              "    <tr>\n",
              "      <th>3</th>\n",
              "      <td>0x476e357f4a65a32f:0x699e717c59ba762d</td>\n",
              "      <td>El Pescador</td>\n",
              "      <td>https://www.google.com/maps/place/El+Pescador/...</td>\n",
              "      <td>Graz</td>\n",
              "      <td>Styria</td>\n",
              "      <td>8010</td>\n",
              "      <td>47.070183799999995,15.4389313,14z/data=!4m8!1m...</td>\n",
              "      <td>15.438931</td>\n",
              "      <td>4.5</td>\n",
              "      <td>NaN</td>\n",
              "      <td>Restaurants, Graz 8010</td>\n",
              "      <td>Roeland L.C. Heijting</td>\n",
              "      <td>5.0</td>\n",
              "      <td>Very nice choice of fish. The menu is small bu...</td>\n",
              "      <td>06/27/2018 02:55:53</td>\n",
              "    </tr>\n",
              "    <tr>\n",
              "      <th>4</th>\n",
              "      <td>0x476e357f4a65a32f:0x699e717c59ba762d</td>\n",
              "      <td>El Pescador</td>\n",
              "      <td>https://www.google.com/maps/place/El+Pescador/...</td>\n",
              "      <td>Graz</td>\n",
              "      <td>Styria</td>\n",
              "      <td>8010</td>\n",
              "      <td>47.070183799999995,15.4389313,14z/data=!4m8!1m...</td>\n",
              "      <td>15.438931</td>\n",
              "      <td>4.5</td>\n",
              "      <td>NaN</td>\n",
              "      <td>Restaurants, Graz 8010</td>\n",
              "      <td>Melody Zemann</td>\n",
              "      <td>5.0</td>\n",
              "      <td>I always visit here when I visit Graz.\\nFish s...</td>\n",
              "      <td>06/12/2022 20:57:51</td>\n",
              "    </tr>\n",
              "  </tbody>\n",
              "</table>\n",
              "</div>\n",
              "      <button class=\"colab-df-convert\" onclick=\"convertToInteractive('df-00f965f9-4f10-4915-98a1-2272a42c49fa')\"\n",
              "              title=\"Convert this dataframe to an interactive table.\"\n",
              "              style=\"display:none;\">\n",
              "        \n",
              "  <svg xmlns=\"http://www.w3.org/2000/svg\" height=\"24px\"viewBox=\"0 0 24 24\"\n",
              "       width=\"24px\">\n",
              "    <path d=\"M0 0h24v24H0V0z\" fill=\"none\"/>\n",
              "    <path d=\"M18.56 5.44l.94 2.06.94-2.06 2.06-.94-2.06-.94-.94-2.06-.94 2.06-2.06.94zm-11 1L8.5 8.5l.94-2.06 2.06-.94-2.06-.94L8.5 2.5l-.94 2.06-2.06.94zm10 10l.94 2.06.94-2.06 2.06-.94-2.06-.94-.94-2.06-.94 2.06-2.06.94z\"/><path d=\"M17.41 7.96l-1.37-1.37c-.4-.4-.92-.59-1.43-.59-.52 0-1.04.2-1.43.59L10.3 9.45l-7.72 7.72c-.78.78-.78 2.05 0 2.83L4 21.41c.39.39.9.59 1.41.59.51 0 1.02-.2 1.41-.59l7.78-7.78 2.81-2.81c.8-.78.8-2.07 0-2.86zM5.41 20L4 18.59l7.72-7.72 1.47 1.35L5.41 20z\"/>\n",
              "  </svg>\n",
              "      </button>\n",
              "      \n",
              "  <style>\n",
              "    .colab-df-container {\n",
              "      display:flex;\n",
              "      flex-wrap:wrap;\n",
              "      gap: 12px;\n",
              "    }\n",
              "\n",
              "    .colab-df-convert {\n",
              "      background-color: #E8F0FE;\n",
              "      border: none;\n",
              "      border-radius: 50%;\n",
              "      cursor: pointer;\n",
              "      display: none;\n",
              "      fill: #1967D2;\n",
              "      height: 32px;\n",
              "      padding: 0 0 0 0;\n",
              "      width: 32px;\n",
              "    }\n",
              "\n",
              "    .colab-df-convert:hover {\n",
              "      background-color: #E2EBFA;\n",
              "      box-shadow: 0px 1px 2px rgba(60, 64, 67, 0.3), 0px 1px 3px 1px rgba(60, 64, 67, 0.15);\n",
              "      fill: #174EA6;\n",
              "    }\n",
              "\n",
              "    [theme=dark] .colab-df-convert {\n",
              "      background-color: #3B4455;\n",
              "      fill: #D2E3FC;\n",
              "    }\n",
              "\n",
              "    [theme=dark] .colab-df-convert:hover {\n",
              "      background-color: #434B5C;\n",
              "      box-shadow: 0px 1px 3px 1px rgba(0, 0, 0, 0.15);\n",
              "      filter: drop-shadow(0px 1px 2px rgba(0, 0, 0, 0.3));\n",
              "      fill: #FFFFFF;\n",
              "    }\n",
              "  </style>\n",
              "\n",
              "      <script>\n",
              "        const buttonEl =\n",
              "          document.querySelector('#df-00f965f9-4f10-4915-98a1-2272a42c49fa button.colab-df-convert');\n",
              "        buttonEl.style.display =\n",
              "          google.colab.kernel.accessAllowed ? 'block' : 'none';\n",
              "\n",
              "        async function convertToInteractive(key) {\n",
              "          const element = document.querySelector('#df-00f965f9-4f10-4915-98a1-2272a42c49fa');\n",
              "          const dataTable =\n",
              "            await google.colab.kernel.invokeFunction('convertToInteractive',\n",
              "                                                     [key], {});\n",
              "          if (!dataTable) return;\n",
              "\n",
              "          const docLinkHtml = 'Like what you see? Visit the ' +\n",
              "            '<a target=\"_blank\" href=https://colab.research.google.com/notebooks/data_table.ipynb>data table notebook</a>'\n",
              "            + ' to learn more about interactive tables.';\n",
              "          element.innerHTML = '';\n",
              "          dataTable['output_type'] = 'display_data';\n",
              "          await google.colab.output.renderOutput(dataTable, element);\n",
              "          const docLink = document.createElement('div');\n",
              "          docLink.innerHTML = docLinkHtml;\n",
              "          element.appendChild(docLink);\n",
              "        }\n",
              "      </script>\n",
              "    </div>\n",
              "  </div>\n",
              "  "
            ]
          },
          "metadata": {},
          "execution_count": 24
        }
      ]
    },
    {
      "cell_type": "code",
      "source": [
        "def filter_text(text):\n",
        "  result = re.search(r\"(\\(Translated by Google\\))([\\s\\S]*)(\\(Original)\\)\", text)\n",
        "  text_new = \"\"\n",
        "  try:\n",
        "    text_new = result.group(2).strip()\n",
        "  except:\n",
        "    text_new = text\n",
        "  return text_new\n",
        "\n",
        "df[\"text\"] = df[\"text\"].apply(filter_text)"
      ],
      "metadata": {
        "id": "9y0uhXoSvK-D"
      },
      "execution_count": null,
      "outputs": []
    },
    {
      "cell_type": "code",
      "source": [
        "review_list = []\n",
        "\n",
        "for i, row in df.iterrows():\n",
        "  stars = row[\"review_stars\"]\n",
        "  if stars < 3: sentiment = 0\n",
        "  elif stars > 3: sentiment = 2\n",
        "  else: sentiment = 1\n",
        "\n",
        "  df.loc[i, \"sentiment\"] = sentiment\n",
        "  review_list.append({\"review_stars\": row[\"review_stars\"], \"text\": row[\"text\"], \"date\": row[\"date\"], \"sentiment\": sentiment})"
      ],
      "metadata": {
        "id": "cWzKRVztZDFl"
      },
      "execution_count": null,
      "outputs": []
    },
    {
      "cell_type": "code",
      "source": [
        "class_names = ['negative', 'neutral', 'positive']\n",
        "ax = sns.countplot(df.sentiment)\n",
        "plt.xlabel('review sentiment')\n",
        "ax.set_xticklabels(class_names)"
      ],
      "metadata": {
        "colab": {
          "base_uri": "https://localhost:8080/",
          "height": 360
        },
        "id": "pwO0ndJ8asUg",
        "outputId": "9a11d1fd-e23d-4eba-bc46-59a0bb4beed6"
      },
      "execution_count": null,
      "outputs": [
        {
          "output_type": "stream",
          "name": "stderr",
          "text": [
            "/usr/local/lib/python3.8/dist-packages/seaborn/_decorators.py:36: FutureWarning: Pass the following variable as a keyword arg: x. From version 0.12, the only valid positional argument will be `data`, and passing other arguments without an explicit keyword will result in an error or misinterpretation.\n",
            "  warnings.warn(\n"
          ]
        },
        {
          "output_type": "execute_result",
          "data": {
            "text/plain": [
              "[Text(0, 0, 'negative'), Text(0, 0, 'neutral'), Text(0, 0, 'positive')]"
            ]
          },
          "metadata": {},
          "execution_count": 29
        },
        {
          "output_type": "display_data",
          "data": {
            "text/plain": [
              "<Figure size 432x288 with 1 Axes>"
            ],
            "image/png": "[encoded data removed]"
          },
          "metadata": {}
        }
      ]
    },
    {
      "cell_type": "code",
      "source": [
        "labels = df[\"sentiment\"].to_list()\n",
        "reviews = df[\"text\"].to_list()"
      ],
      "metadata": {
        "id": "uElCKuN9cakh"
      },
      "execution_count": null,
      "outputs": []
    },
    {
      "cell_type": "markdown",
      "source": [
        "Load model and infer"
      ],
      "metadata": {
        "id": "kGzC3tapcjTp"
      }
    },
    {
      "cell_type": "code",
      "source": [
        "from transformers import DistilBertForSequenceClassification\n",
        "device = torch.device(\"cuda:0\" if torch.cuda.is_available() else \"cpu\")\n",
        "\n",
        "model = DistilBertForSequenceClassification.from_pretrained(\"/content/drive/MyDrive/IUI/model_15k\")\n",
        "model.to(device)"
      ],
      "metadata": {
        "colab": {
          "base_uri": "https://localhost:8080/"
        },
        "id": "y6jsyOI-ck7Y",
        "outputId": "dd6d111d-69d3-4578-8072-604c0696531b"
      },
      "execution_count": null,
      "outputs": [
        {
          "output_type": "execute_result",
          "data": {
            "text/plain": [
              "DistilBertForSequenceClassification(\n",
              "  (distilbert): DistilBertModel(\n",
              "    (embeddings): Embeddings(\n",
              "      (word_embeddings): Embedding(30522, 768, padding_idx=0)\n",
              "      (position_embeddings): Embedding(512, 768)\n",
              "      (LayerNorm): LayerNorm((768,), eps=1e-12, elementwise_affine=True)\n",
              "      (dropout): Dropout(p=0.1, inplace=False)\n",
              "    )\n",
              "    (transformer): Transformer(\n",
              "      (layer): ModuleList(\n",
              "        (0): TransformerBlock(\n",
              "          (attention): MultiHeadSelfAttention(\n",
              "            (dropout): Dropout(p=0.1, inplace=False)\n",
              "            (q_lin): Linear(in_features=768, out_features=768, bias=True)\n",
              "            (k_lin): Linear(in_features=768, out_features=768, bias=True)\n",
              "            (v_lin): Linear(in_features=768, out_features=768, bias=True)\n",
              "            (out_lin): Linear(in_features=768, out_features=768, bias=True)\n",
              "          )\n",
              "          (sa_layer_norm): LayerNorm((768,), eps=1e-12, elementwise_affine=True)\n",
              "          (ffn): FFN(\n",
              "            (dropout): Dropout(p=0.1, inplace=False)\n",
              "            (lin1): Linear(in_features=768, out_features=3072, bias=True)\n",
              "            (lin2): Linear(in_features=3072, out_features=768, bias=True)\n",
              "            (activation): GELUActivation()\n",
              "          )\n",
              "          (output_layer_norm): LayerNorm((768,), eps=1e-12, elementwise_affine=True)\n",
              "        )\n",
              "        (1): TransformerBlock(\n",
              "          (attention): MultiHeadSelfAttention(\n",
              "            (dropout): Dropout(p=0.1, inplace=False)\n",
              "            (q_lin): Linear(in_features=768, out_features=768, bias=True)\n",
              "            (k_lin): Linear(in_features=768, out_features=768, bias=True)\n",
              "            (v_lin): Linear(in_features=768, out_features=768, bias=True)\n",
              "            (out_lin): Linear(in_features=768, out_features=768, bias=True)\n",
              "          )\n",
              "          (sa_layer_norm): LayerNorm((768,), eps=1e-12, elementwise_affine=True)\n",
              "          (ffn): FFN(\n",
              "            (dropout): Dropout(p=0.1, inplace=False)\n",
              "            (lin1): Linear(in_features=768, out_features=3072, bias=True)\n",
              "            (lin2): Linear(in_features=3072, out_features=768, bias=True)\n",
              "            (activation): GELUActivation()\n",
              "          )\n",
              "          (output_layer_norm): LayerNorm((768,), eps=1e-12, elementwise_affine=True)\n",
              "        )\n",
              "        (2): TransformerBlock(\n",
              "          (attention): MultiHeadSelfAttention(\n",
              "            (dropout): Dropout(p=0.1, inplace=False)\n",
              "            (q_lin): Linear(in_features=768, out_features=768, bias=True)\n",
              "            (k_lin): Linear(in_features=768, out_features=768, bias=True)\n",
              "            (v_lin): Linear(in_features=768, out_features=768, bias=True)\n",
              "            (out_lin): Linear(in_features=768, out_features=768, bias=True)\n",
              "          )\n",
              "          (sa_layer_norm): LayerNorm((768,), eps=1e-12, elementwise_affine=True)\n",
              "          (ffn): FFN(\n",
              "            (dropout): Dropout(p=0.1, inplace=False)\n",
              "            (lin1): Linear(in_features=768, out_features=3072, bias=True)\n",
              "            (lin2): Linear(in_features=3072, out_features=768, bias=True)\n",
              "            (activation): GELUActivation()\n",
              "          )\n",
              "          (output_layer_norm): LayerNorm((768,), eps=1e-12, elementwise_affine=True)\n",
              "        )\n",
              "        (3): TransformerBlock(\n",
              "          (attention): MultiHeadSelfAttention(\n",
              "            (dropout): Dropout(p=0.1, inplace=False)\n",
              "            (q_lin): Linear(in_features=768, out_features=768, bias=True)\n",
              "            (k_lin): Linear(in_features=768, out_features=768, bias=True)\n",
              "            (v_lin): Linear(in_features=768, out_features=768, bias=True)\n",
              "            (out_lin): Linear(in_features=768, out_features=768, bias=True)\n",
              "          )\n",
              "          (sa_layer_norm): LayerNorm((768,), eps=1e-12, elementwise_affine=True)\n",
              "          (ffn): FFN(\n",
              "            (dropout): Dropout(p=0.1, inplace=False)\n",
              "            (lin1): Linear(in_features=768, out_features=3072, bias=True)\n",
              "            (lin2): Linear(in_features=3072, out_features=768, bias=True)\n",
              "            (activation): GELUActivation()\n",
              "          )\n",
              "          (output_layer_norm): LayerNorm((768,), eps=1e-12, elementwise_affine=True)\n",
              "        )\n",
              "        (4): TransformerBlock(\n",
              "          (attention): MultiHeadSelfAttention(\n",
              "            (dropout): Dropout(p=0.1, inplace=False)\n",
              "            (q_lin): Linear(in_features=768, out_features=768, bias=True)\n",
              "            (k_lin): Linear(in_features=768, out_features=768, bias=True)\n",
              "            (v_lin): Linear(in_features=768, out_features=768, bias=True)\n",
              "            (out_lin): Linear(in_features=768, out_features=768, bias=True)\n",
              "          )\n",
              "          (sa_layer_norm): LayerNorm((768,), eps=1e-12, elementwise_affine=True)\n",
              "          (ffn): FFN(\n",
              "            (dropout): Dropout(p=0.1, inplace=False)\n",
              "            (lin1): Linear(in_features=768, out_features=3072, bias=True)\n",
              "            (lin2): Linear(in_features=3072, out_features=768, bias=True)\n",
              "            (activation): GELUActivation()\n",
              "          )\n",
              "          (output_layer_norm): LayerNorm((768,), eps=1e-12, elementwise_affine=True)\n",
              "        )\n",
              "        (5): TransformerBlock(\n",
              "          (attention): MultiHeadSelfAttention(\n",
              "            (dropout): Dropout(p=0.1, inplace=False)\n",
              "            (q_lin): Linear(in_features=768, out_features=768, bias=True)\n",
              "            (k_lin): Linear(in_features=768, out_features=768, bias=True)\n",
              "            (v_lin): Linear(in_features=768, out_features=768, bias=True)\n",
              "            (out_lin): Linear(in_features=768, out_features=768, bias=True)\n",
              "          )\n",
              "          (sa_layer_norm): LayerNorm((768,), eps=1e-12, elementwise_affine=True)\n",
              "          (ffn): FFN(\n",
              "            (dropout): Dropout(p=0.1, inplace=False)\n",
              "            (lin1): Linear(in_features=768, out_features=3072, bias=True)\n",
              "            (lin2): Linear(in_features=3072, out_features=768, bias=True)\n",
              "            (activation): GELUActivation()\n",
              "          )\n",
              "          (output_layer_norm): LayerNorm((768,), eps=1e-12, elementwise_affine=True)\n",
              "        )\n",
              "      )\n",
              "    )\n",
              "  )\n",
              "  (pre_classifier): Linear(in_features=768, out_features=768, bias=True)\n",
              "  (classifier): Linear(in_features=768, out_features=3, bias=True)\n",
              "  (dropout): Dropout(p=0.2, inplace=False)\n",
              ")"
            ]
          },
          "metadata": {},
          "execution_count": 31
        }
      ]
    },
    {
      "cell_type": "code",
      "source": [
        "sigmoid = nn.Sigmoid()\n",
        "def get_prob(test_encoding):\n",
        "  input_ids = torch.tensor(test_encoding[\"input_ids\"]).to(device)\n",
        "  attention_mask = torch.tensor(test_encoding[\"attention_mask\"]).to(device)\n",
        "  with torch.no_grad():\n",
        "    outputs = model(input_ids.unsqueeze(0), attention_mask.unsqueeze(0))\n",
        "  y = np.argmax(outputs[0].to(\"cpu\").numpy())\n",
        "  sigmoid_vector = sigmoid(outputs.logits).to(\"cpu\").numpy()[0]\n",
        "  return y, sigmoid_vector[0], sigmoid_vector[2]"
      ],
      "metadata": {
        "id": "zwrUmUCocs8O"
      },
      "execution_count": null,
      "outputs": []
    },
    {
      "cell_type": "code",
      "source": [
        "from transformers import DistilBertTokenizerFast\n",
        "tokenizer = DistilBertTokenizerFast.from_pretrained(\"distilbert-base-uncased\")"
      ],
      "metadata": {
        "id": "4MtNIFirc1cI"
      },
      "execution_count": null,
      "outputs": []
    },
    {
      "cell_type": "code",
      "source": [
        "y_pred = []\n",
        "prob_neg_list = []\n",
        "prob_pos_list = []\n",
        "for i in df[\"text\"]:\n",
        "  test_encoding = tokenizer(i, truncation=True, padding=True)\n",
        "  input_ids = torch.tensor(test_encoding[\"input_ids\"]).to(device)\n",
        "  attention_mask = torch.tensor(test_encoding[\"attention_mask\"]).to(device)\n",
        "  y, prob_neg, prob_pos = get_prob(test_encoding)\n",
        "  y_pred.append(y)\n",
        "  prob_neg_list.append(prob_neg)\n",
        "  prob_pos_list.append(prob_pos)"
      ],
      "metadata": {
        "id": "NaoGjkH1cqqn"
      },
      "execution_count": null,
      "outputs": []
    },
    {
      "cell_type": "code",
      "source": [
        "df[\"prob_neg\"] = prob_neg_list\n",
        "df[\"prob_pos\"] = prob_pos_list"
      ],
      "metadata": {
        "id": "oFDLl8bQsVPC"
      },
      "execution_count": null,
      "outputs": []
    },
    {
      "cell_type": "code",
      "source": [
        "from sklearn.metrics import f1_score, classification_report, confusion_matrix\n",
        "\n",
        "y_true = df[\"sentiment\"].to_list()\n",
        "\n",
        "target_names = ['negative', 'neutral', 'positive']\n",
        "print(classification_report(y_true, y_pred, target_names=target_names))\n",
        "print(confusion_matrix(y_true, y_pred))\n",
        "sns.heatmap(confusion_matrix(y_true, y_pred), cmap=\"crest\")"
      ],
      "metadata": {
        "colab": {
          "base_uri": "https://localhost:8080/",
          "height": 526
        },
        "id": "zd0dTZ7AkX9e",
        "outputId": "6cd32bf1-1083-4817-8f2d-a7f085a2f5e7"
      },
      "execution_count": null,
      "outputs": [
        {
          "output_type": "stream",
          "name": "stdout",
          "text": [
            "              precision    recall  f1-score   support\n",
            "\n",
            "    negative       0.77      0.77      0.77      3550\n",
            "     neutral       0.22      0.73      0.33      2341\n",
            "    positive       0.99      0.84      0.91     35479\n",
            "\n",
            "    accuracy                           0.82     41370\n",
            "   macro avg       0.66      0.78      0.67     41370\n",
            "weighted avg       0.93      0.82      0.86     41370\n",
            "\n",
            "[[ 2742   771    37]\n",
            " [  373  1705   263]\n",
            " [  431  5405 29643]]\n"
          ]
        },
        {
          "output_type": "execute_result",
          "data": {
            "text/plain": [
              "<matplotlib.axes._subplots.AxesSubplot at 0x7fbc49f98b80>"
            ]
          },
          "metadata": {},
          "execution_count": 36
        },
        {
          "output_type": "display_data",
          "data": {
            "text/plain": [
              "<Figure size 432x288 with 2 Axes>"
            ],
            "image/png": "[encoded data removed]"
          },
          "metadata": {}
        }
      ]
    },
    {
      "cell_type": "code",
      "source": [
        "df.to_csv(\"graz_reviews_restaurants_test.csv\", index=False)"
      ],
      "metadata": {
        "id": "Njykrj2osmjH"
      },
      "execution_count": null,
      "outputs": []
    }
  ]
}